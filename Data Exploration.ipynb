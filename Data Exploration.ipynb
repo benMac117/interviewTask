{
 "cells": [
  {
   "cell_type": "markdown",
   "metadata": {},
   "source": [
    "## Data exploration and cleaning\n",
    "\n",
    "\n",
    "### First, I'll load the data and look at the first few entries\n",
    "* To create the list of types I first ran genfromtxt with *dtype=None* and then manually assigned types and string sizes\n",
    "* I'm ignoring the first column is this seems to be an index for the week of the year the sample was observed. It should be redundant when we have the date\n",
    "* I can’t see a reason to include the year field for the same reason\n",
    "* I imagine the relationship with the date will have a strong non-linear element, i.e. when are avocados in season? I'm going to add another categorical feature for month to try to capture this\n",
    "* I gather that 4046, 4225, and 4770 are Hass avocado sizes\n",
    "  * I was thinking about removing the total volume, but the sum of the volumes for the three types does not equal the total\n",
    "    * I see the same characteristic with the bag size breakdown\n"
   ]
  },
  {
   "cell_type": "code",
   "execution_count": 120,
   "metadata": {},
   "outputs": [
    {
     "data": {
      "text/plain": [
       "array([('2015-12-27', 1.33,  64236.62, 1036.74,  54454.85,  48.16, 8696.87, 8603.62,  93.25, 0., 'conventional', 'Albany'),\n",
       "       ('2015-12-20', 1.35,  54876.98,  674.28,  44638.81,  58.33, 9505.56, 9408.07,  97.49, 0., 'conventional', 'Albany'),\n",
       "       ('2015-12-13', 0.93, 118220.22,  794.7 , 109149.67, 130.5 , 8145.35, 8042.21, 103.14, 0., 'conventional', 'Albany')],\n",
       "      dtype=[('Date', 'S10'), ('AveragePrice', '<f8'), ('Total_Volume', '<f8'), ('4046', '<f8'), ('4225', '<f8'), ('4770', '<f8'), ('Total_Bags', '<f8'), ('Small_Bags', '<f8'), ('Large_Bags', '<f8'), ('XLarge_Bags', '<f8'), ('type', 'S20'), ('region', 'S20')])"
      ]
     },
     "execution_count": 120,
     "metadata": {},
     "output_type": "execute_result"
    }
   ],
   "source": [
    "import numpy as np\n",
    "\n",
    "filepath = '/home/ben/Data/morsum/avocado.csv'\n",
    "types = [\"|S10\", float, float, float, float, float, float, float, float, float, \"|S20\", \"|S20\"]\n",
    "columnsToIgnore = [0,12]\n",
    "rawData = np.genfromtxt(filepath, delimiter=',', usecols=np.setdiff1d(range(14), columnsToIgnore), dtype=types, names=True)\n",
    "rawData[:3]"
   ]
  },
  {
   "cell_type": "markdown",
   "metadata": {},
   "source": [
    "### Next I need to reformat some of the features for regression\n",
    "* This mostly means converting categorical features into one-hot vectors and converting the date to epoch time\n",
    "* I am performing this column by column but it may be more computationally efficient to go row by row\n",
    "* To minimise memory use I'm deleting columns from the raw data once they are no longer needed\n",
    "  *  If memory still became an issue I would need to look at not loading whole columns at once"
   ]
  },
  {
   "cell_type": "code",
   "execution_count": 144,
   "metadata": {},
   "outputs": [
    {
     "name": "stdout",
     "output_type": "stream",
     "text": [
      "(18249, 13)\n",
      "(18249, 8)\n",
      "(18249, 21)\n"
     ]
    },
    {
     "data": {
      "text/plain": [
       "array([1.4511744e+09, 0.0000000e+00, 0.0000000e+00, 0.0000000e+00,\n",
       "       0.0000000e+00, 0.0000000e+00, 0.0000000e+00, 0.0000000e+00,\n",
       "       0.0000000e+00, 0.0000000e+00, 0.0000000e+00, 0.0000000e+00,\n",
       "       1.0000000e+00, 6.4236620e+04, 1.0367400e+03, 5.4454850e+04,\n",
       "       4.8160000e+01, 8.6968700e+03, 8.6036200e+03, 9.3250000e+01,\n",
       "       0.0000000e+00])"
      ]
     },
     "execution_count": 144,
     "metadata": {},
     "output_type": "execute_result"
    }
   ],
   "source": [
    "from datetime import datetime\n",
    "\n",
    "# I would use datetime.timestamp if this was Python 3\n",
    "# I would consider doing this in two steps (conver to datetime, then to epoch), or in for loop\n",
    "epochDT = datetime(1970,1,1)\n",
    "reformattedData = np.array([((datetime.strptime(dataSample['Date'], '%Y-%m-%d')) - epochDT).total_seconds()\n",
    "                       for dataSample in rawData]).astype(int)\n",
    "monthColumn = np.array([dataSample['Date'].split('-')[1] for dataSample in rawData])\n",
    "\n",
    "# If I were doing this in production code I would use a one-hot helper function from the likes of SKLearn\n",
    "def convert_categorical_feature_to_onehot(categoricalFeatureVector):\n",
    "    \"\"\"Encodes a column of categorical features into one-hot vectors\"\"\"\n",
    "    categoryValues, categoryIndices = np.unique(categoricalFeatureVector, return_inverse=True)\n",
    "    # The np.eye function should generate a one-hot vector for each category\n",
    "    categoryOneHotOptions = np.eye(len(categoryValues))\n",
    "    # I use the indices from 'return_inverse=True' to determine which category each sample is\n",
    "    return categoryOneHotOptions[categoryIndices]\n",
    "\n",
    "onehotMonths = convert_categorical_feature_to_onehot(monthColumn) # Convert months to one-hot vectos\n",
    "reformattedData = np.append(reformattedData.reshape(-1,1), onehotMonths, axis=1) # Append month features\n",
    "\n",
    "#rawData = rawData[list(rawData.dtype.names[1:])] # Remove date from raw data\n",
    "\n",
    "targetPrices = rawData['AveragePrice']\n",
    "#rawData = rawData[list(rawData.dtype.names[1:])] # Remove prices from raw data\n",
    "\n",
    "# Some features are fine to add as they are\n",
    "simpleNumberFeatureNames = ['Total_Volume', '4046', '4225', '4770', 'Total_Bags','Small_Bags',\n",
    "                            'Large_Bags', 'XLarge_Bags']\n",
    "reformattedData = np.append(reformattedData, np.array(rawData[simpleNumberFeatureNames].tolist()), axis=1)\n",
    "# Remove standard features from raw data\n",
    "#rawData = rawData[list(rawData.dtype.names[len(simpleNumberFeatureNames):])] \n",
    "\n"
   ]
  }
 ],
 "metadata": {
  "kernelspec": {
   "display_name": "Python 2",
   "language": "python",
   "name": "python2"
  },
  "language_info": {
   "codemirror_mode": {
    "name": "ipython",
    "version": 2
   },
   "file_extension": ".py",
   "mimetype": "text/x-python",
   "name": "python",
   "nbconvert_exporter": "python",
   "pygments_lexer": "ipython2",
   "version": "2.7.15"
  }
 },
 "nbformat": 4,
 "nbformat_minor": 2
}
