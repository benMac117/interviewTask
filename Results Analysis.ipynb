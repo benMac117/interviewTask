{
 "cells": [
  {
   "cell_type": "markdown",
   "metadata": {},
   "source": [
    "## Result Analysis\n",
    "Let's first load and plot the training loss\n",
    "\n",
    "The loss does seem to fall substantially from ~3.25 to ~0.18, most of this progress is within the first 1000 training epochs, again this is not unexpected"
   ]
  },
  {
   "cell_type": "code",
   "execution_count": 3,
   "metadata": {},
   "outputs": [
    {
     "data": {
      "image/png": "[encoded data removed]",
      "text/plain": [
       "<matplotlib.figure.Figure at 0x7ff245fcb310>"
      ]
     },
     "metadata": {
      "needs_background": "light"
     },
     "output_type": "display_data"
    }
   ],
   "source": [
    "import numpy as np\n",
    "from os.path import expanduser\n",
    "import matplotlib.pyplot as plt\n",
    "# enable in-line plotting in notebook\n",
    "%matplotlib inline\n",
    "\n",
    "homeDir = expanduser('~') \n",
    "lossFilepath = '{}/Data/morsum/training.csv'.format(homeDir)\n",
    "trainingLossEntries = np.loadtxt(lossFilepath, delimiter=',')\n",
    "epochs = trainingLossEntries[:,0].astype(int)\n",
    "losses = trainingLossEntries[:,1]\n",
    "del trainingLossEntries # delete original data to save memory\n",
    "\n",
    "# to avoid use of the pyplot package I initially just printed the loss value over time\n",
    "plt.plot(losses)\n",
    "plt.ylabel('Training loss')\n",
    "plt.xlabel('Training epoch count')\n",
    "xTickIndices = np.arange(7)*5\n",
    "plt.xticks(xTickIndices, epochs[xTickIndices])\n",
    "plt.show()"
   ]
  },
  {
   "cell_type": "markdown",
   "metadata": {},
   "source": [
    "### Comparing predictions to targets\n",
    "Considering the average distance between the targets and the predictions, it looks like the model has done a fairly good job in learning a relationship, dispite the simple approach"
   ]
  },
  {
   "cell_type": "code",
   "execution_count": 38,
   "metadata": {},
   "outputs": [
    {
     "name": "stdout",
     "output_type": "stream",
     "text": [
      "Predictions:\t[2.03 1.35 1.38 1.82 1.21 1.8  1.26 1.41 1.37 1.78]\n",
      "Targets:\t[2.02 1.33 1.05 2.29 1.75 1.58 0.88 1.83 1.03 2.19]\n",
      "Average distance: 0.185598314257\n"
     ]
    }
   ],
   "source": [
    "outputFilepath = '{}/Data/morsum/output.csv'.format(homeDir)\n",
    "output = np.loadtxt(outputFilepath, delimiter=',')\n",
    "targets = output[0]\n",
    "predictions = output[1]\n",
    "del output # delete original data to save memory\n",
    "\n",
    "print('Predictions:\\t{}'.format(np.around(predictions[:10], 2)))\n",
    "print('Targets:\\t{}'.format(targets[:10]))\n",
    "print('Average distance: {}'.format(np.mean(np.abs(targets - predictions))))"
   ]
  },
  {
   "cell_type": "markdown",
   "metadata": {},
   "source": [
    "We can assess the performance more accurately with more advanced statistical measures"
   ]
  },
  {
   "cell_type": "code",
   "execution_count": 39,
   "metadata": {},
   "outputs": [
    {
     "data": {
      "text/plain": [
       "0.6412903594047259"
      ]
     },
     "execution_count": 39,
     "metadata": {},
     "output_type": "execute_result"
    }
   ],
   "source": [
    "def calculate_r_squared(predictions, targets):\n",
    "    SSres = np.sum((targets - predictions)**2)\n",
    "    SStot = np.sum((targets - np.mean(targets, axis=0))**2)\n",
    "    return np.mean(1 - SSres / SStot)\n",
    "\n",
    "calculate_r_squared(predictions, targets)"
   ]
  },
  {
   "cell_type": "markdown",
   "metadata": {},
   "source": [
    "The $r^{2}$ metric calculates how much of the variance in the target is explained by the model. It can be interpreted like a percentage, so the value above shows that our model explains around 64% of the variance. While this is well above chance, there is still much room for improvement"
   ]
  },
  {
   "cell_type": "markdown",
   "metadata": {},
   "source": [
    "### Evaluating useful features\n",
    "A simple metric we can use to rank feature importance is to examine the attached coefficients generated by the model. While this can only be strictly accurate when we more rigorously standardise our input features (i.e. 0-mean them), it should give us a rough guide of what is important"
   ]
  },
  {
   "cell_type": "code",
   "execution_count": 59,
   "metadata": {},
   "outputs": [
    {
     "name": "stdout",
     "output_type": "stream",
     "text": [
      "Intercept coefficient:\t\t0.674134069977\n",
      "Epoch coefficient:\t\t0.191630400557\n",
      "Month coefficient:\t\t0.860488827502\n",
      "Total volume coefficient:\t0.117332859943\n",
      "4046 coefficient:\t\t0.0769137000323\n",
      "4225 coefficient:\t\t0.11794464219\n",
      "4770 coefficient:\t\t0.215081790591\n",
      "Total bags coefficient:\t\t0.0562646964769\n",
      "Small bags coefficient:\t\t0.124383139138\n",
      "Large bags coefficient:\t\t0.106553924158\n",
      "Xlarge bags coefficient:\t0.448879455981\n",
      "Type coefficient:\t\t0.162932965011\n",
      "Region coefficient:\t\t0.958818172515\n"
     ]
    }
   ],
   "source": [
    "modelFilepath = '{}/Data/morsum/model.csv'.format(homeDir)\n",
    "model = np.loadtxt(modelFilepath, delimiter=',')\n",
    "\n",
    "print('Epoch coefficient:\\t\\t{}'.format(abs(model[1])))\n",
    "\n",
    "# I think the mean of the one-hot features is the most appropriate way to assess their importance\n",
    "monthIndices = range(2,14)\n",
    "print('Month coefficient:\\t\\t{}'.format(abs(np.mean(model[monthIndices]))))\n",
    "print('Total volume coefficient:\\t{}'.format(abs(model[14])))\n",
    "print('4046 coefficient:\\t\\t{}'.format(abs(model[15])))\n",
    "print('4225 coefficient:\\t\\t{}'.format(abs(model[16])))\n",
    "print('4770 coefficient:\\t\\t{}'.format(abs(model[17])))\n",
    "print('Total bags coefficient:\\t\\t{}'.format(abs(model[18])))\n",
    "print('Small bags coefficient:\\t\\t{}'.format(abs(model[19])))\n",
    "print('Large bags coefficient:\\t\\t{}'.format(abs(model[20])))\n",
    "print('Xlarge bags coefficient:\\t{}'.format(abs(model[21])))\n",
    "print('Type coefficient:\\t\\t{}'.format(abs(np.mean(model[[22,23]]))))\n",
    "print('Region coefficient:\\t\\t{}'.format(abs(np.mean(model[23:]))))"
   ]
  },
  {
   "cell_type": "markdown",
   "metadata": {},
   "source": [
    "The top 3 features by importance are region, month, and Xlarge bags. \n",
    "\n",
    "The cost-of-living in different areas is a significant factor in grocery prices, so it is no surprise that the region which would encode this information performed well\n",
    "\n",
    "As expected during the initial data inspection, the month proved a much more effective feature than the date. I expect this is due to change in price following whether or not the avocado is in season\n",
    "\n",
    "The Xlarge bags feature was something of a surprise to me, my first thought was that establishments selling more Xlarge bags are more likely to be wholesellers, and thus have a lower price than other smaller shops. If this were the case it would have a high magnitude negative coefficient, however when I remove the *abs()* term (as below) the value is still positive. I don't have a good explanation for this, perhaps I misunderstand what the feature means"
   ]
  },
  {
   "cell_type": "code",
   "execution_count": 62,
   "metadata": {},
   "outputs": [
    {
     "name": "stdout",
     "output_type": "stream",
     "text": [
      "Xlarge bags coefficient:\t0.448879455981\n"
     ]
    }
   ],
   "source": [
    "print('Xlarge bags coefficient:\\t{}'.format(model[21]))"
   ]
  }
 ],
 "metadata": {
  "kernelspec": {
   "display_name": "Python 2",
   "language": "python",
   "name": "python2"
  },
  "language_info": {
   "codemirror_mode": {
    "name": "ipython",
    "version": 2
   },
   "file_extension": ".py",
   "mimetype": "text/x-python",
   "name": "python",
   "nbconvert_exporter": "python",
   "pygments_lexer": "ipython2",
   "version": "2.7.15"
  }
 },
 "nbformat": 4,
 "nbformat_minor": 2
}
